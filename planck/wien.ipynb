{
 "cells": [
  {
   "cell_type": "code",
   "execution_count": 1,
   "metadata": {},
   "outputs": [],
   "source": [
    "import sympy as smp\n",
    "import scipy.constants"
   ]
  },
  {
   "cell_type": "code",
   "execution_count": 2,
   "metadata": {},
   "outputs": [
    {
     "data": {
      "text/latex": [
       "$\\displaystyle \\frac{2 c^{2} h \\left(-5 + \\frac{c h e^{\\frac{c h}{T k l}}}{T k l \\left(e^{\\frac{c h}{T k l}} - 1\\right)}\\right)}{l^{6} \\left(e^{\\frac{c h}{T k l}} - 1\\right)} = 0$"
      ],
      "text/plain": [
       "Eq(2*c**2*h*(-5 + c*h*exp(c*h/(T*k*l))/(T*k*l*(exp(c*h/(T*k*l)) - 1)))/(l**6*(exp(c*h/(T*k*l)) - 1)), 0)"
      ]
     },
     "execution_count": 2,
     "metadata": {},
     "output_type": "execute_result"
    }
   ],
   "source": [
    "# Derivation of planck's law\n",
    "l, T, h, c, k = smp.symbols('l, T, h, c, k', real=True)\n",
    "planck = 2 * h * c ** 2 /(l ** 5 * (smp.exp(h*c/(l*k*T))-1))\n",
    "smp.Eq(smp.factor_terms(planck.diff(l)), 0)"
   ]
  },
  {
   "cell_type": "code",
   "execution_count": 3,
   "metadata": {},
   "outputs": [
    {
     "data": {
      "text/latex": [
       "$\\displaystyle \\frac{x e^{x}}{e^{x} - 1} - 5$"
      ],
      "text/plain": [
       "x*exp(x)/(exp(x) - 1) - 5"
      ]
     },
     "execution_count": 3,
     "metadata": {},
     "output_type": "execute_result"
    }
   ],
   "source": [
    "# Expression in parenthasees above needs to be 0 for eq to hold\n",
    "expr = h*c / (l*k*T) * smp.exp(h*c / (l*k*T)) / (smp.exp(h*c / (l*k*T)) -1) - 5\n",
    "x = smp.symbols('x')\n",
    "expr1 = expr.subs(h*c/(l*k*T), x)\n",
    "expr1"
   ]
  },
  {
   "cell_type": "code",
   "execution_count": 4,
   "metadata": {},
   "outputs": [
    {
     "data": {
      "text/plain": [
       "[LambertW(-5*exp(-5)) + 5]"
      ]
     },
     "execution_count": 4,
     "metadata": {},
     "output_type": "execute_result"
    }
   ],
   "source": [
    "#Solve expression for x\n",
    "x_n = smp.solve(expr1, x)\n",
    "x_n"
   ]
  },
  {
   "cell_type": "code",
   "execution_count": 5,
   "metadata": {},
   "outputs": [
    {
     "data": {
      "text/latex": [
       "$\\displaystyle \\frac{2.89777195518517}{T}$"
      ],
      "text/plain": [
       "2.89777195518517/T"
      ]
     },
     "execution_count": 5,
     "metadata": {},
     "output_type": "execute_result"
    }
   ],
   "source": [
    "l_max = h * c / (x_n[0] * k * T)\n",
    "l_max.subs({\n",
    "    c: scipy.constants.c,\n",
    "    h: scipy.constants.h,\n",
    "    k: scipy.constants.Boltzmann\n",
    "}).evalf()*1e3 ## mm K / T"
   ]
  }
 ],
 "metadata": {
  "kernelspec": {
   "display_name": "Python 3.10.6 64-bit",
   "language": "python",
   "name": "python3"
  },
  "language_info": {
   "codemirror_mode": {
    "name": "ipython",
    "version": 3
   },
   "file_extension": ".py",
   "mimetype": "text/x-python",
   "name": "python",
   "nbconvert_exporter": "python",
   "pygments_lexer": "ipython3",
   "version": "3.10.6"
  },
  "orig_nbformat": 4,
  "vscode": {
   "interpreter": {
    "hash": "aee8b7b246df8f9039afb4144a1f6fd8d2ca17a180786b69acc140d282b71a49"
   }
  }
 },
 "nbformat": 4,
 "nbformat_minor": 2
}
